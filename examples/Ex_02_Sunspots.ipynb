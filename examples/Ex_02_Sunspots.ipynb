{
 "cells": [
  {
   "cell_type": "markdown",
   "source": [
    "# Ex.02: Monthly Wolf sunspot number"
   ],
   "metadata": {}
  },
  {
   "cell_type": "markdown",
   "source": [
    "The second example focus on the analysis of monthly Wolf sunspot number. Data is available from 1749 (Source: [WDC-SILSO](\\href{http://www.sidc.be/silso/datafiles), Royal Observatory of Belgium, Brussels). The signal contains the well-known 11 years Schwabe cycle, the 22 years one and smaller time scales variations described in [[1]](#1). The analysis focus on the detection of these cycles from 22 years down to the seasonal scale. The steps will be the following: \n",
    "\n",
    "1. Load marinetools packages\n",
    "2. Read the input data and create the dictionary to fit the non-stationary probability model (PM)\n",
    "3. Call marinetools.temporal.analysis.marginalfit for fitting the parameters of the PM"
   ],
   "metadata": {}
  },
  {
   "cell_type": "markdown",
   "source": [
    "## 1. Load marinetools packages\n",
    "\n",
    "The following code load the basic functions (read data, analysis and plots) included in marinetools"
   ],
   "metadata": {}
  },
  {
   "cell_type": "code",
   "execution_count": null,
   "source": [
    "from marinetools.utils import read\r\n",
    "from marinetools.temporal import analysis\r\n",
    "from marinetools.graphics import plots"
   ],
   "outputs": [],
   "metadata": {}
  },
  {
   "cell_type": "markdown",
   "source": [
    "## 2. Read the input data and create the dictionary to make the marginal fit\n",
    "\n",
    "As sometimes happens, data did not come in datetime format. In this example the data is read adding a dateparser to create a pandas DataFrame which indexes are datetimes. The following code read the file of monthly sunspots. The input file is a txt file. As usually, some noise is included to ensure that the input variable is continuous and not discrete."
   ],
   "metadata": {}
  },
  {
   "cell_type": "code",
   "execution_count": null,
   "source": [
    "from datetime import datetime\r\n",
    "import pandas as pd\r\n",
    "\r\n",
    "monthly_date_parser = lambda x: datetime.strptime(x, \"%Y-%m\")\r\n",
    "\r\n",
    "data = pd.read_csv(\r\n",
    "    \"data/sunspots.txt\",\r\n",
    "    index_col=0,\r\n",
    "    parse_dates=[\"Month\"],\r\n",
    "    date_parser=monthly_date_parser,\r\n",
    ")\r\n",
    "data = analysis.nanoise(data, \"Sunspots\")"
   ],
   "outputs": [],
   "metadata": {}
  },
  {
   "cell_type": "markdown",
   "source": [
    "Once the data is read, it is create the dictionary with the properties about the temporal expansion of parameters and the probability models. In this example, a piecewise function compound by two models was selected, where a lognorm PM will fit the body and a Gaussian model will fit the upper tail. The percentil matching point is 0.85. As we are looking for larger oscillations, a basis period of 22 years will be set-up. Both PMs will be expanded in time using the sinusoidal temporal expansion and 44 terms to include the seasonal behaviour. This information is translated to the dictionary as follow."
   ],
   "metadata": {}
  },
  {
   "cell_type": "code",
   "execution_count": null,
   "source": [
    "params = {\r\n",
    "    \"var\": \"Sunspots\",\r\n",
    "    \"fun\": {0: \"lognorm\", 1: \"norm\"},\r\n",
    "    \"non_stat_analysis\": True,\r\n",
    "    \"basis_functions\": {\r\n",
    "        \"method\": \"modified\",\r\n",
    "        \"noterms\": 44,\r\n",
    "    },\r\n",
    "    \"ws_ps\": [0.85],\r\n",
    "    \"basis_period\": [22],\r\n",
    "    \"piecewise\": True,\r\n",
    "}"
   ],
   "outputs": [],
   "metadata": {}
  },
  {
   "cell_type": "markdown",
   "source": [
    "## 3. Make the marginal fit\r\n",
    "The following code will fit the parameters to the data."
   ],
   "metadata": {}
  },
  {
   "cell_type": "code",
   "execution_count": null,
   "source": [
    "analysis.marginalfit(data, params)"
   ],
   "outputs": [],
   "metadata": {}
  },
  {
   "cell_type": "markdown",
   "source": [
    "The optimization of this case takes more time than example 01 due to the tool is optimizing 88 times the parameters (44 times per 2 probability models) and more than 400 parameteres are been optimized (3 parameters of the lognorm per 2 parameters of each expansion order per order 44 plus the parameters of the Gaussian probability model). The result will be saved to the file \"Sunspots_lognorm_norm_0.85_nonst_22_modified_44_SLSQP.json\" in the folder \"marginalfit\". Read carefully the information that the tool gives in the shell to understand that the parameters are passed correctly. You can also read the json file with any text editor and follows the results as in the previous dictionary."
   ],
   "metadata": {}
  },
  {
   "cell_type": "markdown",
   "source": [
    "## 4. Verificate the marginal fit\n",
    "\n",
    "The non-stationary empirical and theoretical cumulative distribution functions are plotted. The following code shows some more options to modify the windows scale, that differs from the previous example while it is monthly timeseries. As it can be observed, some properties of the plot such as the windows lenght for the empirical non-stationary cumulative distribution function, the percentiles and the option to include an second real time axis can be chosen."
   ],
   "metadata": {}
  },
  {
   "cell_type": "code",
   "execution_count": null,
   "source": [
    "import numpy as np\r\n",
    "\r\n",
    "params = read.rjson(\"marginalfit/Qd_weibull_max_nonst_1_sinusoidal_10_SLSQP\")\r\n",
    "\r\n",
    "plots.nonstationary_cdf(\r\n",
    "    data,\r\n",
    "    \"Sunspots\",\r\n",
    "    params[\"Sunspots\"],\r\n",
    "    date_axis=True,\r\n",
    "    daysWindowsLength=30,\r\n",
    "    equal_windows=True,\r\n",
    "    pemp=np.array([0.05, 0.1, 0.25, 0.5, 0.75, 0.9, 0.95, 0.99]),\r\n",
    ")"
   ],
   "outputs": [],
   "metadata": {}
  },
  {
   "cell_type": "markdown",
   "source": [
    "More information about this analysis can be found in [[2]](#2) and [[3]](#3)."
   ],
   "metadata": {}
  },
  {
   "cell_type": "markdown",
   "source": [
    "## References\r\n",
    "<a id=\"1\">[1]</a> \r\n",
    "Usoskin, IG and Mursula, K (2003). \r\n",
    "Long-term solar cycle evolution: review of recent developments\r\n",
    "Solar Physics, 218(1), 319-343.\r\n",
    "\r\n",
    "\r\n",
    "<a id=\"2\">[2]</a> \r\n",
    "M. Cobos, P. Otiñar, P. Magaña, A. Lira-Loarca, A. Baquerizo (2021). \r\n",
    "MarineTools.temporal (v 1.0.0): A Python package to simulate Earth and environmental timeseries\r\n",
    "Submitted to Environmental Modelling & Software.\r\n",
    "\r\n",
    "\r\n",
    "<a id=\"3\">[3]</a> \r\n",
    "Cobos, M., Otíñar, P., Magaña, P., Baquerizo, A. (2021).\r\n",
    "A method to characterize and simulate climate, earth or environmental vector random processes. \r\n",
    "Submitted to  Probabilistic Engineering & Mechanics."
   ],
   "metadata": {}
  }
 ],
 "metadata": {
  "interpreter": {
   "hash": "2116bd1df8812084872aa8a084470e5c063fb0d4bda6cafd8ae42afe2409da2c"
  },
  "kernelspec": {
   "name": "python3",
   "display_name": "Python 3.8.3 64-bit ('base': conda)"
  },
  "language_info": {
   "name": "python",
   "version": "3.8.3"
  },
  "orig_nbformat": 4
 },
 "nbformat": 4,
 "nbformat_minor": 2
}