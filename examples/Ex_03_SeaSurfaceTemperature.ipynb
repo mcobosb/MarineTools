{
 "cells": [
  {
   "cell_type": "markdown",
   "source": [
    "# Ex.03: Mean sea surface temperature near the Cape Palos"
   ],
   "metadata": {}
  },
  {
   "cell_type": "markdown",
   "source": [
    "The third example is devoted to the analysis of monthly mean sea surface temperature at 38º N, 0º (a location next to Cape Palos, Mediterranean Sea) that covers the period 01/15/1854 - 05/15/2021 (Source: [NOAA](https://www.ncei.noaa.gov). The analysis was conducted to reproduce large scale oscillations as in the case of sunspots (Example 02). The steps will be the following: \n",
    "\n",
    "1. Load marinetools packages\n",
    "2. Read the input data and create the dictionary to fit the non-stationary probability model (PM)\n",
    "3. Call marinetools.temporal.analysis.marginalfit for fitting the parameters of the PM"
   ],
   "metadata": {}
  },
  {
   "cell_type": "markdown",
   "source": [
    "## 1. Load marinetools packages\n",
    "\n",
    "The following code load the basic functions (read data, analysis and plots) included in marinetools"
   ],
   "metadata": {}
  },
  {
   "cell_type": "code",
   "execution_count": null,
   "source": [
    "from marinetools.utils import read\r\n",
    "from marinetools.temporal import analysis\r\n",
    "from marinetools.graphics import plots"
   ],
   "outputs": [],
   "metadata": {}
  },
  {
   "cell_type": "markdown",
   "source": [
    "## 2. Read the input data and create the dictionary to make the marginal fit\n",
    "\n",
    "In this example, data in a netcdf format is read it. The following code read the file of monthly water temperature. The \"sst\" key from netcdf file is transform to \"T\". As usually, some noise is included:"
   ],
   "metadata": {}
  },
  {
   "cell_type": "code",
   "execution_count": null,
   "source": [
    "import pandas as pd\r\n",
    "\r\n",
    "nc = read.netcdf(\"mediterraneo\", \"sst\")\r\n",
    "data = pd.DataFrame(nc[\"sst\"].values, index=nc[\"time\"].values, columns=[\"T\"])\r\n",
    "data = analysis.nanoise(data, \"T\")"
   ],
   "outputs": [],
   "metadata": {}
  },
  {
   "cell_type": "markdown",
   "source": [
    "Once the data is read, it is needed to create the dictionary with the properties about the temporal expansion of parameters and the probability models. In this example, a single Guassina function was selected. As the previous example, longer basis period will be selected. As it is observed, we choose a basis period of 20 years. A trigonometric temporal expansion and 40 terms are choosen to include the seasonal behaviour. This information is translated to the dictionary as follow."
   ],
   "metadata": {}
  },
  {
   "cell_type": "code",
   "execution_count": null,
   "source": [
    "params = {\r\n",
    "    \"T\": {\r\n",
    "        \"var\": \"T\",\r\n",
    "        \"non_stat_analysis\": True,\r\n",
    "        \"basis_function\": {\"method\": \"trigonometric\", \"noterms\": 40},\r\n",
    "        \"fun\": {0: \"norm\"},\r\n",
    "        \"basis_period\": [20],\r\n",
    "    }\r\n",
    "}"
   ],
   "outputs": [],
   "metadata": {}
  },
  {
   "cell_type": "markdown",
   "source": [
    "## 3. Make the marginal fit\r\n",
    "The following code will fit the parameters to the data."
   ],
   "metadata": {}
  },
  {
   "cell_type": "code",
   "execution_count": null,
   "source": [
    "analysis.marginalfit(data, params)"
   ],
   "outputs": [],
   "metadata": {}
  },
  {
   "cell_type": "markdown",
   "source": [
    "The result will be saved at the file \"\"marginalfit/T_norm_nonst_20_trigonometric_40_SLSQP.json\" in the folder \"marginalfit\". Read carefully the information that the tool gives in the shell to understand that the parameters are passed correctly. You can also read the json file with any text editor and follows the results as in the previous dictionary."
   ],
   "metadata": {}
  },
  {
   "cell_type": "markdown",
   "source": [
    "## 4. Verificate the marginal fit\r\n",
    "\r\n",
    "The non-stationary empirical and theoretical cumulative distribution functions are plotted. The following code shows some more options to modify the windows scale, that differs from the previous example while it is monthly timeseries."
   ],
   "metadata": {}
  },
  {
   "cell_type": "code",
   "execution_count": null,
   "source": [
    "params = read.rjson(\"marginalfit/T_norm_nonst_20_trigonometric_40_SLSQP\")\r\n",
    "plots.nonstationary_cdf(\r\n",
    "    data, \"T\", params, daysWindowsLength=120, equal_windows=True, date_axis=True\r\n",
    ")"
   ],
   "outputs": [],
   "metadata": {}
  }
 ],
 "metadata": {
  "interpreter": {
   "hash": "123d6e892dde0eaaf77021662f39277b0eb55e7d003991bb2cba8a025a50755a"
  },
  "kernelspec": {
   "display_name": "Python 3.6.13 64-bit ('download_data': conda)",
   "name": "python3"
  },
  "language_info": {
   "name": "python",
   "version": ""
  },
  "orig_nbformat": 4
 },
 "nbformat": 4,
 "nbformat_minor": 2
}